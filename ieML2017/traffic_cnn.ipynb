{
 "cells": [
  {
   "cell_type": "code",
   "execution_count": 1,
   "metadata": {
    "collapsed": true
   },
   "outputs": [],
   "source": [
    "import numpy as np\n",
    "import tensorflow as tf\n",
    "import pandas as pd"
   ]
  },
  {
   "cell_type": "code",
   "execution_count": 2,
   "metadata": {
    "collapsed": true
   },
   "outputs": [],
   "source": [
    "import trafficDataUtility as util"
   ]
  },
  {
   "cell_type": "code",
   "execution_count": 3,
   "metadata": {
    "collapsed": true
   },
   "outputs": [],
   "source": [
    "path = \"C:\\\\Users\\\\KangYounKook\\\\Desktop\\\\ML_Study\\\\\""
   ]
  },
  {
   "cell_type": "code",
   "execution_count": 4,
   "metadata": {},
   "outputs": [
    {
     "name": "stdout",
     "output_type": "stream",
     "text": [
      "getDataFromFile  C:\\Users\\KangYounKook\\Desktop\\ML_Study\\sectionInfo.txt\n"
     ]
    }
   ],
   "source": [
    "dataset = {}\n",
    "dataset = util.getDatasetFromFile(path+\"sectionInfo.txt\")"
   ]
  },
  {
   "cell_type": "code",
   "execution_count": 5,
   "metadata": {},
   "outputs": [
    {
     "name": "stdout",
     "output_type": "stream",
     "text": [
      "loadDataFromFile  C:\\Users\\KangYounKook\\Desktop\\ML_Study\\PeriodTotalAverage.txt\n",
      "update Dataset [move_count,work_count,ratio]\n"
     ]
    }
   ],
   "source": [
    "filename = \"PeriodTotalAverage.txt\"\n",
    "util.updateDatasetFromFile(path+filename, dataset)"
   ]
  },
  {
   "cell_type": "code",
   "execution_count": 6,
   "metadata": {
    "collapsed": true
   },
   "outputs": [],
   "source": [
    "classes = 10"
   ]
  },
  {
   "cell_type": "code",
   "execution_count": 7,
   "metadata": {},
   "outputs": [
    {
     "name": "stdout",
     "output_type": "stream",
     "text": [
      "loadCsvInput  C:\\Users\\KangYounKook\\Desktop\\ML_Study\\input10_all10.csv\n"
     ]
    }
   ],
   "source": [
    "#filename = \"input20_all10_2.csv\"\n",
    "filename = \"input10_all10.csv\"\n",
    "#filename = \"input100_rspeed.csv\"\n",
    "#filename = \"input\" + str(classes) +\"_all.csv\"\n",
    "#filename = \"input10_2min.csv\"\n",
    "data = util.loadCsvInput(path,filename)"
   ]
  },
  {
   "cell_type": "code",
   "execution_count": 8,
   "metadata": {
    "collapsed": true
   },
   "outputs": [],
   "source": [
    "#selectedList = dataset.keys()\n",
    "selectedList = ['Section697','Section754','Section1212','Section852']\n",
    "#print(dataset['Section697'])"
   ]
  },
  {
   "cell_type": "code",
   "execution_count": 9,
   "metadata": {
    "collapsed": true
   },
   "outputs": [],
   "source": [
    "def getFeedXY_norm(Xa,Ya,k,count,z):\n",
    "    Yn = Ya[k:count]/z\n",
    "    Yn = np.round(Yn)\n",
    "    Xn = Xa[:count-k]\n",
    "    for i in range(1,k):\n",
    "        Xn = np.c_[Xn, Xa[i:count-k+i]]\n",
    "    \n",
    "    m = int((count-k)*0.7)\n",
    "    Xt = Xn[0:m]\n",
    "    Xval = Xn[m:count-k]\n",
    "    Yt = Yn[0:m]\n",
    "    Yval = Yn[m:count-k]\n",
    "\n",
    "    return Xt,Xval,Yt,Yval"
   ]
  },
  {
   "cell_type": "code",
   "execution_count": 10,
   "metadata": {
    "collapsed": true
   },
   "outputs": [],
   "source": [
    "def tf_model_(timeLen,classes):\n",
    "    \n",
    "    X = tf.placeholder(tf.float32, [None, input_size])\n",
    "    X_img = tf.reshape(X, [-1, 5, timeLen, 1])\n",
    "    Y = tf.placeholder(tf.int32, [None, 1])\n",
    "    Y_one_hot = tf.one_hot(Y, classes)\n",
    "    Y_one_hot = tf.reshape(Y_one_hot, [-1, classes])\n",
    "\n",
    "    W1 = tf.Variable(tf.random_normal([2,2,1,10], stddev=0.01))\n",
    "    L1 = tf.nn.conv2d(X_img, W1, strides=[1,1,1,1], padding='SAME')\n",
    "    L1 = tf.nn.relu(L1)\n",
    "\n",
    "    W2 = tf.Variable(tf.random_normal([3,3,10,10], stddev=0.01))\n",
    "    L2 = tf.nn.conv2d(L1, W2, strides=[1,1,1,1], padding='VALID')\n",
    "    L2 = tf.nn.relu(L2)\n",
    "\n",
    "    L3 = tf.reshape(L2, [-1, 3*10])\n",
    "\n",
    "    W3 = tf.Variable(tf.random_normal([3*10, classes], stddev=0.01))\n",
    "    #W5 = tf.get_variable(\"W5\", shape=[30, classes], initializer=tf.contrib.layers.xavier_initializer())\n",
    "    b3 = tf.Variable(tf.random_normal([classes]))\n",
    "\n",
    "    hypothesis = tf.matmul(L3,W3) + b3\n",
    "    return X,Y,Y_one_hot,hypothesis\n"
   ]
  },
  {
   "cell_type": "code",
   "execution_count": 11,
   "metadata": {
    "collapsed": true
   },
   "outputs": [],
   "source": [
    "def tf_model(timeLen,classes,input_size):\n",
    "    \n",
    "    X = tf.placeholder(tf.float32, [None, input_size])\n",
    "    X_img = tf.reshape(X, [-1, 5, timeLen, 1])\n",
    "    Y = tf.placeholder(tf.int32, [None, 1])\n",
    "    Y_one_hot = tf.one_hot(Y, classes)\n",
    "    Y_one_hot = tf.reshape(Y_one_hot, [-1, classes])\n",
    "\n",
    "    W1 = tf.Variable(tf.random_normal([2,2,1,10], stddev=0.01))\n",
    "    L1 = tf.nn.conv2d(X_img, W1, strides=[1,1,1,1], padding='VALID')\n",
    "    L1 = tf.nn.relu(L1)\n",
    "\n",
    "    W2 = tf.Variable(tf.random_normal([2,2,10,10], stddev=0.01))\n",
    "    L2 = tf.nn.conv2d(L1, W2, strides=[1,1,1,1], padding='VALID')\n",
    "    L2 = tf.nn.relu(L2)\n",
    "\n",
    "    L3 = tf.reshape(L2, [-1, 3*10])\n",
    "\n",
    "    W3 = tf.Variable(tf.random_normal([30, classes], stddev=0.01))\n",
    "    #W5 = tf.get_variable(\"W5\", shape=[30, classes], initializer=tf.contrib.layers.xavier_initializer())\n",
    "    b3 = tf.Variable(tf.random_normal([classes]))\n",
    "\n",
    "    hypothesis = tf.matmul(L3,W3) + b3\n",
    "    return X,Y,Y_one_hot,hypothesis"
   ]
  },
  {
   "cell_type": "code",
   "execution_count": 12,
   "metadata": {
    "collapsed": true
   },
   "outputs": [],
   "source": [
    "def tf_model_3(timeLen,classes,input_size):\n",
    "    \n",
    "    X = tf.placeholder(tf.float32, [None, input_size])\n",
    "    X_img = tf.reshape(X, [-1, 3, timeLen, 1])\n",
    "    Y = tf.placeholder(tf.int32, [None, 1])\n",
    "    Y_one_hot = tf.one_hot(Y, classes)\n",
    "    Y_one_hot = tf.reshape(Y_one_hot, [-1, classes])\n",
    "\n",
    "    W1 = tf.Variable(tf.random_normal([2,2,1,10], stddev=0.01))\n",
    "    L1 = tf.nn.conv2d(X_img, W1, strides=[1,1,1,1], padding='VALID')\n",
    "    L1 = tf.nn.relu(L1)\n",
    "\n",
    "    W2 = tf.Variable(tf.random_normal([2,2,10,10], stddev=0.01))\n",
    "    L2 = tf.nn.conv2d(L1, W2, strides=[1,1,1,1], padding='VALID')\n",
    "    L2 = tf.nn.relu(L2)\n",
    "\n",
    "    L3 = tf.reshape(L2, [-1, 10])\n",
    "\n",
    "    W3 = tf.Variable(tf.random_normal([10, classes], stddev=0.01))\n",
    "    #W5 = tf.get_variable(\"W5\", shape=[30, classes], initializer=tf.contrib.layers.xavier_initializer())\n",
    "    b3 = tf.Variable(tf.random_normal([classes]))\n",
    "\n",
    "    hypothesis = tf.matmul(L3,W3) + b3\n",
    "    return X,Y,Y_one_hot,hypothesis"
   ]
  },
  {
   "cell_type": "code",
   "execution_count": 13,
   "metadata": {
    "collapsed": true
   },
   "outputs": [],
   "source": [
    "def cnnModel3(data,dataset,classes,selectedList):\n",
    "    outfilename = \"CNN_Result\" + str(classes) + \".txt\"\n",
    "    f = open(outfilename,'w')\n",
    "\n",
    "    num = 0\n",
    "    for id in selectedList:\n",
    "        if id not in data.columns:\n",
    "            continue\n",
    "        if dataset[id][5] < 144:\n",
    "            continue\n",
    "        if dataset[id][7] > 80:\n",
    "            continue\n",
    "        \n",
    "        Xa = util.getX(id,data,dataset)\n",
    "        if Xa is None:\n",
    "            continue\n",
    "        Ya = np.array(data[id]).reshape(-1,1)\n",
    "\n",
    "        num += 1\n",
    "        print(num, id, '-------------------------')\n",
    "        timeLen = 3\n",
    "        Xt,Xval,Yt,Yval = getFeedXY_norm(Xa,Ya,timeLen,1440,10)\n",
    "\n",
    "        input_size = 5*timeLen\n",
    "        \n",
    "        X,Y,Y_one_hot,hypothesis = tf_model(timeLen,classes,input_size)    \n",
    "    \n",
    "        cost = tf.reduce_mean(tf.nn.softmax_cross_entropy_with_logits(logits=hypothesis,labels=Y_one_hot))\n",
    "        optimizer = tf.train.AdamOptimizer(learning_rate=0.01).minimize(cost)\n",
    "        prediction = tf.argmax(hypothesis, 1)\n",
    "        correct_prediction = tf.equal(prediction, tf.argmax(Y_one_hot, 1))\n",
    "        accuracy = tf.reduce_mean(tf.cast(correct_prediction, tf.float32))\n",
    "\n",
    "        sess = tf.Session()\n",
    "        sess.run(tf.global_variables_initializer())\n",
    "\n",
    "        for epoch in range(100):\n",
    "            c, _ = sess.run([cost,optimizer], feed_dict={X:Xt,Y:Yt})\n",
    "    \n",
    "        trainAccuracy = sess.run(accuracy, feed_dict={X:Xt,Y:Yt})\n",
    "        valAccuracy = sess.run(accuracy, feed_dict={X:Xval,Y:Yval})    \n",
    "        print('Training:', trainAccuracy)\n",
    "        print('Validation:', valAccuracy)\n",
    "\n",
    "        print(sess.run(prediction, feed_dict={X:Xval,Y:Yval}))\n",
    "        \n",
    "        log = id\n",
    "        log += ',' + dataset[id][0]\n",
    "        log += ',' + dataset[id][1]\n",
    "        log += ',' + str(dataset[id][5])\n",
    "        log += ',' + str(dataset[id][7])\n",
    "        log += ',' + str(trainAccuracy)\n",
    "        log += ',' + str(valAccuracy)\n",
    "        log += '\\n'\n",
    "        f.write(log)\n",
    "    f.close()"
   ]
  },
  {
   "cell_type": "code",
   "execution_count": 14,
   "metadata": {
    "collapsed": true
   },
   "outputs": [],
   "source": [
    "def cnnModel_3(data,dataset,classes,selectedList):\n",
    "    outfilename = \"CNN_Result\" + str(classes) + \".txt\"\n",
    "    f = open(outfilename,'w')\n",
    "\n",
    "    num = 0\n",
    "    for id in selectedList:\n",
    "        if id not in data.columns:\n",
    "            continue\n",
    "        if dataset[id][5] < 144:\n",
    "            continue\n",
    "        if dataset[id][7] > 80:\n",
    "            continue\n",
    "        \n",
    "        Xa = util.getX_3(id,data,dataset)\n",
    "        if Xa is None:\n",
    "            continue\n",
    "        Ya = np.array(data[id]).reshape(-1,1)\n",
    "\n",
    "        num += 1\n",
    "        print(num, id, '-------------------------')\n",
    "        timeLen = 3\n",
    "        Xt,Xval,Yt,Yval = getFeedXY_norm(Xa,Ya,timeLen,1440,10)\n",
    "\n",
    "        input_size = 3*timeLen\n",
    "        \n",
    "        X,Y,Y_one_hot,hypothesis = tf_model_3(timeLen,classes,input_size)    \n",
    "    \n",
    "        cost = tf.reduce_mean(tf.nn.softmax_cross_entropy_with_logits(logits=hypothesis,labels=Y_one_hot))\n",
    "        optimizer = tf.train.AdamOptimizer(learning_rate=0.01).minimize(cost)\n",
    "        prediction = tf.argmax(hypothesis, 1)\n",
    "        correct_prediction = tf.equal(prediction, tf.argmax(Y_one_hot, 1))\n",
    "        accuracy = tf.reduce_mean(tf.cast(correct_prediction, tf.float32))\n",
    "\n",
    "        sess = tf.Session()\n",
    "        sess.run(tf.global_variables_initializer())\n",
    "\n",
    "        for epoch in range(100):\n",
    "            c, _ = sess.run([cost,optimizer], feed_dict={X:Xt,Y:Yt})\n",
    "    \n",
    "        trainAccuracy = sess.run(accuracy, feed_dict={X:Xt,Y:Yt})\n",
    "        valAccuracy = sess.run(accuracy, feed_dict={X:Xval,Y:Yval})    \n",
    "        print('Training:', trainAccuracy)\n",
    "        print('Validation:', valAccuracy)\n",
    "\n",
    "        print(sess.run(prediction, feed_dict={X:Xval,Y:Yval}))\n",
    "        \n",
    "        log = id\n",
    "        log += ',' + dataset[id][0]\n",
    "        log += ',' + dataset[id][1]\n",
    "        log += ',' + str(dataset[id][5])\n",
    "        log += ',' + str(dataset[id][7])\n",
    "        log += ',' + str(trainAccuracy)\n",
    "        log += ',' + str(valAccuracy)\n",
    "        log += '\\n'\n",
    "        f.write(log)\n",
    "    f.close()"
   ]
  },
  {
   "cell_type": "code",
   "execution_count": 15,
   "metadata": {},
   "outputs": [
    {
     "name": "stdout",
     "output_type": "stream",
     "text": [
      "1 Section697 -------------------------\n",
      "Training: 0.764179\n",
      "Validation: 0.789352\n",
      "[3 3 3 3 3 3 3 3 3 3 3 3 3 3 3 3 3 3 3 3 3 3 3 3 3 3 3 3 3 3 3 3 3 3 3 3 3\n",
      " 3 3 3 3 3 3 3 3 3 3 3 3 3 3 3 3 3 3 3 3 3 3 3 3 3 3 3 3 3 3 3 3 3 3 3 3 3\n",
      " 3 3 3 3 3 3 3 3 3 3 3 3 3 3 3 3 3 3 3 3 3 3 3 3 3 3 3 3 3 3 3 3 3 3 3 3 3\n",
      " 3 3 3 3 3 3 3 3 3 3 3 3 3 3 3 3 3 3 3 3 3 3 3 3 3 3 3 3 3 3 3 3 3 3 3 3 3\n",
      " 3 3 3 3 3 3 3 3 3 3 3 3 3 3 3 3 3 3 3 3 3 3 3 3 3 3 3 3 3 3 3 3 3 3 3 3 3\n",
      " 3 3 3 3 3 3 3 3 3 3 3 3 3 3 3 3 3 3 3 3 3 3 3 3 3 3 3 3 3 3 3 3 3 3 3 3 3\n",
      " 3 3 3 3 3 3 3 3 3 3 3 3 3 3 3 3 3 3 3 3 3 3 3 3 3 3 3 3 3 3 3 3 3 3 3 3 3\n",
      " 3 3 3 3 3 3 3 3 3 3 3 3 3 3 3 3 3 3 3 3 3 3 3 3 3 3 3 3 3 3 3 3 3 3 3 3 3\n",
      " 3 3 3 3 3 3 3 3 3 3 3 3 3 3 3 3 3 3 3 3 3 3 3 3 3 3 3 3 3 3 3 3 3 3 3 3 3\n",
      " 3 3 3 3 3 3 3 3 3 3 3 3 3 3 3 3 3 3 3 3 3 3 3 3 3 3 3 3 3 3 3 3 3 3 3 3 3\n",
      " 3 3 3 3 3 3 3 3 3 3 3 3 3 3 3 3 3 3 3 3 3 3 3 3 3 3 3 3 3 3 3 3 3 3 3 3 3\n",
      " 3 3 3 3 3 3 3 3 3 3 3 3 3 3 3 3 3 3 3 3 3 3 3 3 3]\n",
      "2 Section754 -------------------------\n",
      "Training: 0.752239\n",
      "Validation: 0.75\n",
      "[4 4 4 4 4 4 4 4 4 4 4 4 4 4 4 4 4 4 4 4 4 4 4 4 4 4 4 4 4 4 4 4 4 4 4 4 4\n",
      " 4 4 4 4 4 4 4 4 4 4 4 4 4 4 4 4 4 4 4 4 4 4 4 4 4 4 4 4 4 4 4 4 4 4 4 4 4\n",
      " 4 4 4 4 4 4 4 4 4 4 4 4 4 4 4 4 4 4 4 4 4 4 4 4 4 4 4 4 4 4 4 4 4 4 4 4 4\n",
      " 4 4 4 4 4 4 4 4 4 4 4 4 4 4 4 4 4 4 4 4 4 4 4 4 4 4 4 4 4 4 4 4 4 4 4 4 4\n",
      " 4 4 4 4 4 4 4 4 4 4 4 4 4 4 4 4 4 4 4 4 4 4 4 4 4 4 4 4 4 4 4 4 4 4 4 4 4\n",
      " 4 4 4 4 4 4 4 4 4 4 4 4 4 4 4 4 4 4 4 4 4 4 4 4 4 4 4 4 4 4 4 4 4 4 4 4 4\n",
      " 4 4 4 4 4 4 4 4 4 4 4 4 4 4 4 4 4 4 4 4 4 4 4 4 4 4 4 4 4 4 4 4 4 4 4 4 4\n",
      " 4 4 4 4 4 4 4 4 4 4 4 4 4 4 4 4 4 4 4 4 4 4 4 4 4 4 4 4 4 4 4 4 4 4 4 4 4\n",
      " 4 4 4 4 4 4 4 4 4 4 4 4 4 4 4 4 4 4 4 4 4 4 4 4 4 4 4 4 4 4 4 4 4 4 4 4 4\n",
      " 4 4 4 4 4 4 4 4 4 4 4 4 4 4 4 4 4 4 4 4 4 4 4 4 4 4 4 4 4 4 4 4 4 4 4 4 4\n",
      " 4 4 4 4 4 4 4 4 4 4 4 4 4 4 4 4 4 4 4 4 4 4 4 4 4 4 4 4 4 4 4 4 4 4 4 4 4\n",
      " 4 4 4 4 4 4 4 4 4 4 4 4 4 4 4 4 4 4 4 4 4 4 4 4 4]\n",
      "3 Section1212 -------------------------\n",
      "Training: 0.668657\n",
      "Validation: 0.678241\n",
      "[6 6 6 6 6 6 6 6 6 6 6 6 6 6 6 6 6 6 6 6 6 6 6 6 6 6 6 6 6 6 6 6 6 6 6 6 6\n",
      " 6 6 6 6 6 6 6 6 6 6 6 6 6 6 6 6 6 6 6 6 6 6 6 6 6 6 6 6 6 6 6 6 6 6 6 6 6\n",
      " 6 6 6 6 6 6 6 6 6 6 6 6 6 6 6 6 6 6 6 6 6 6 6 6 6 6 6 6 6 6 6 6 6 6 6 6 6\n",
      " 6 6 6 6 6 6 6 6 6 6 6 6 6 6 6 6 6 6 6 6 6 6 6 6 6 6 6 6 6 6 6 6 6 6 6 6 6\n",
      " 6 6 6 6 6 6 6 6 6 6 6 6 6 6 6 6 6 6 6 6 6 6 6 6 6 6 6 6 6 6 6 6 6 6 6 6 6\n",
      " 6 6 6 6 6 6 6 6 6 6 6 6 6 6 6 6 6 6 6 6 6 6 6 6 6 6 6 6 6 6 6 6 6 6 6 6 6\n",
      " 6 6 6 6 6 6 6 6 6 6 6 6 6 6 6 6 6 6 6 6 6 6 6 6 6 6 6 6 6 6 6 6 6 6 6 6 6\n",
      " 6 6 6 6 6 6 6 6 6 6 6 6 6 6 6 6 6 6 6 6 6 6 6 6 6 6 6 6 6 6 6 6 6 6 6 6 6\n",
      " 6 6 6 6 6 6 6 6 6 6 6 6 6 6 6 6 6 6 6 6 6 6 6 6 6 6 6 6 6 6 6 6 6 6 6 6 6\n",
      " 6 6 6 6 6 6 6 6 6 6 6 6 6 6 6 6 6 6 6 6 6 6 6 6 6 6 6 6 6 6 6 6 6 6 6 6 6\n",
      " 6 6 6 6 6 6 6 6 6 6 6 6 6 6 6 6 6 6 6 6 6 6 6 6 6 6 6 6 6 6 6 6 6 6 6 6 6\n",
      " 6 6 6 6 6 6 6 6 6 6 6 6 6 6 6 6 6 6 6 6 6 6 6 6 6]\n",
      "4 Section852 -------------------------\n",
      "Training: 0.771144\n",
      "Validation: 0.775463\n",
      "[6 6 6 6 6 6 6 6 6 6 6 6 6 6 6 6 6 6 6 6 6 6 6 6 6 6 6 6 6 6 6 6 6 6 6 6 6\n",
      " 6 6 6 6 6 6 6 6 6 6 6 6 6 6 6 6 6 6 6 6 6 6 6 6 6 6 6 6 6 6 6 6 6 6 6 6 6\n",
      " 6 6 6 6 6 6 6 6 6 6 6 6 6 6 6 6 6 6 6 6 6 6 6 6 6 6 6 6 6 6 6 6 6 6 6 6 6\n",
      " 6 6 6 6 6 6 6 6 6 6 6 6 6 6 6 6 6 6 6 6 6 6 6 6 6 6 6 6 6 6 6 6 6 6 6 6 6\n",
      " 6 6 6 6 6 6 6 6 6 6 6 6 6 6 6 6 6 6 6 6 6 6 6 6 6 6 6 6 6 6 6 6 6 6 6 6 6\n",
      " 6 6 6 6 6 6 6 6 6 6 6 6 6 6 6 6 6 6 6 6 6 6 6 6 6 6 6 6 6 6 6 6 6 6 6 6 6\n",
      " 6 6 6 6 6 6 6 6 6 6 6 6 6 6 6 6 6 6 6 6 6 6 6 6 6 6 6 6 6 6 6 6 6 6 6 6 6\n",
      " 6 6 6 6 6 6 6 6 6 6 6 6 6 6 6 6 6 6 6 6 6 6 6 6 6 6 6 6 6 6 6 6 6 6 6 6 6\n",
      " 6 6 6 6 6 6 6 6 6 6 6 6 6 6 6 6 6 6 6 6 6 6 6 6 6 6 6 6 6 6 6 6 6 6 6 6 6\n",
      " 6 6 6 6 6 6 6 6 6 6 6 6 6 6 6 6 6 6 6 6 6 6 6 6 6 6 6 6 6 6 6 6 6 6 6 6 6\n",
      " 6 6 6 6 6 6 6 6 6 6 6 6 6 6 6 6 6 6 6 6 6 6 6 6 6 6 6 6 6 6 6 6 6 6 6 6 6\n",
      " 6 6 6 6 6 6 6 6 6 6 6 6 6 6 6 6 6 6 6 6 6 6 6 6 6]\n"
     ]
    }
   ],
   "source": [
    "#cnnModel2(data,dataset,classes,selectedList)\n",
    "#cnnModel3(data,dataset,classes,selectedList)\n",
    "cnnModel_3(data,dataset,classes,selectedList)\n"
   ]
  },
  {
   "cell_type": "code",
   "execution_count": null,
   "metadata": {
    "collapsed": true
   },
   "outputs": [],
   "source": []
  },
  {
   "cell_type": "code",
   "execution_count": null,
   "metadata": {
    "collapsed": true
   },
   "outputs": [],
   "source": []
  }
 ],
 "metadata": {
  "kernelspec": {
   "display_name": "Python 3",
   "language": "python",
   "name": "python3"
  },
  "language_info": {
   "codemirror_mode": {
    "name": "ipython",
    "version": 3
   },
   "file_extension": ".py",
   "mimetype": "text/x-python",
   "name": "python",
   "nbconvert_exporter": "python",
   "pygments_lexer": "ipython3",
   "version": "3.5.3"
  }
 },
 "nbformat": 4,
 "nbformat_minor": 2
}
