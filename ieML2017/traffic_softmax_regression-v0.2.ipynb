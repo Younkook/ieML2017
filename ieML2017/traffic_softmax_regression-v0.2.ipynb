{
 "cells": [
  {
   "cell_type": "code",
   "execution_count": 343,
   "metadata": {
    "collapsed": true
   },
   "outputs": [],
   "source": [
    "import numpy as np\n",
    "import pandas as pd\n",
    "import tensorflow as tf"
   ]
  },
  {
   "cell_type": "code",
   "execution_count": 344,
   "metadata": {
    "collapsed": true
   },
   "outputs": [],
   "source": [
    "dataset = {}"
   ]
  },
  {
   "cell_type": "code",
   "execution_count": 345,
   "metadata": {
    "collapsed": true
   },
   "outputs": [],
   "source": [
    "# loading data file"
   ]
  },
  {
   "cell_type": "code",
   "execution_count": 346,
   "metadata": {
    "collapsed": true
   },
   "outputs": [],
   "source": [
    "path = \"C:\\\\Users\\\\KangYounKook\\\\Desktop\\\\ML_Study\\\\\""
   ]
  },
  {
   "cell_type": "code",
   "execution_count": 347,
   "metadata": {
    "collapsed": true
   },
   "outputs": [],
   "source": [
    "filename = \"sectionInfo.txt\""
   ]
  },
  {
   "cell_type": "code",
   "execution_count": 348,
   "metadata": {
    "collapsed": true
   },
   "outputs": [],
   "source": [
    "def getDatasetFromFile(filename):\n",
    "    dataset = {}\n",
    "    with open(filename, 'r') as f:\n",
    "        lines = f.readlines()\n",
    "        \n",
    "        for line in lines:\n",
    "            words = line.strip('\\n').split(',')\n",
    "    \n",
    "            sectionId = words[0]\n",
    "            sectionType = words[1]\n",
    "            distance = words[3]\n",
    "            speed = words[4]\n",
    "    \n",
    "            incount = int(words[5])\n",
    "            incomings = []\n",
    "            for i in range(6, 6+incount):\n",
    "                incomings.append(words[i])\n",
    "        #    print(incomings)\n",
    "            outcount = int(words[6+incount])\n",
    "            outgoings = []\n",
    "            for i in range(7+incount, 7+incount+outcount):\n",
    "                outgoings.append(words[i])\n",
    "        #    print(outgoings)\n",
    "    \n",
    "            value = [sectionType, distance, speed, incomings, outgoings]\n",
    "            dataset[sectionId] = value\n",
    "            #printDataset(sectionId)\n",
    "        print('getDataFromFile ',filename)\n",
    "    return dataset"
   ]
  },
  {
   "cell_type": "code",
   "execution_count": 349,
   "metadata": {
    "collapsed": true
   },
   "outputs": [],
   "source": [
    "def printDataset(sectionId):\n",
    "    print(sectionId)\n",
    "    print(dataset[sectionId])"
   ]
  },
  {
   "cell_type": "code",
   "execution_count": 350,
   "metadata": {},
   "outputs": [
    {
     "name": "stdout",
     "output_type": "stream",
     "text": [
      "getDataFromFile  C:\\Users\\KangYounKook\\Desktop\\ML_Study\\sectionInfo.txt\n"
     ]
    }
   ],
   "source": [
    "dataset = getDatasetFromFile(path+filename)"
   ]
  },
  {
   "cell_type": "code",
   "execution_count": 351,
   "metadata": {
    "collapsed": true
   },
   "outputs": [],
   "source": [
    "def updateDatasetFromFile(filename):\n",
    "    with open(filename,'r') as f:\n",
    "        lines = f.readlines()\n",
    "        for line in lines:\n",
    "            words = line.strip('\\n').split(',')\n",
    "            sectionId = words[0]\n",
    "            move_count = int(words[6])\n",
    "            work_count = int(words[7])\n",
    "            ratio = int(words[8])\n",
    "            \n",
    "            (dataset[sectionId]).append(move_count)\n",
    "            (dataset[sectionId]).append(work_count)\n",
    "            (dataset[sectionId]).append(ratio)\n",
    "            #printDataset(sectionId)\n",
    "    print('loadDataFromFile ', filename)\n",
    "    print('update Dataset [move_count,work_count,ratio]')        "
   ]
  },
  {
   "cell_type": "code",
   "execution_count": 352,
   "metadata": {},
   "outputs": [
    {
     "name": "stdout",
     "output_type": "stream",
     "text": [
      "loadDataFromFile  C:\\Users\\KangYounKook\\Desktop\\ML_Study\\PeriodTotalAverage.txt\n",
      "update Dataset [move_count,work_count,ratio]\n"
     ]
    }
   ],
   "source": [
    "updateDatasetFromFile(path+\"PeriodTotalAverage.txt\")"
   ]
  },
  {
   "cell_type": "code",
   "execution_count": 353,
   "metadata": {
    "collapsed": true
   },
   "outputs": [],
   "source": [
    "#dataset"
   ]
  },
  {
   "cell_type": "code",
   "execution_count": 354,
   "metadata": {
    "collapsed": true
   },
   "outputs": [],
   "source": [
    "filename = \"input10_all.csv\""
   ]
  },
  {
   "cell_type": "code",
   "execution_count": 355,
   "metadata": {
    "collapsed": true
   },
   "outputs": [],
   "source": [
    "def loadCsvInput(path, filename):\n",
    "    fullname = path+filename\n",
    "    print('loadCsvInput ',fullname)\n",
    "    return pd.read_csv(fullname)"
   ]
  },
  {
   "cell_type": "code",
   "execution_count": 356,
   "metadata": {},
   "outputs": [
    {
     "name": "stdout",
     "output_type": "stream",
     "text": [
      "loadCsvInput  C:\\Users\\KangYounKook\\Desktop\\ML_Study\\input10_all.csv\n"
     ]
    }
   ],
   "source": [
    "data = loadCsvInput(path,filename)"
   ]
  },
  {
   "cell_type": "code",
   "execution_count": 357,
   "metadata": {
    "collapsed": true
   },
   "outputs": [],
   "source": [
    "# load sectionInfo\n",
    "# set section data\n",
    "# load inputdata\n",
    "# build modelInput"
   ]
  },
  {
   "cell_type": "code",
   "execution_count": 358,
   "metadata": {},
   "outputs": [
    {
     "name": "stdout",
     "output_type": "stream",
     "text": [
      "(1440, 146)\n"
     ]
    }
   ],
   "source": [
    "dataAll = np.array(data)\n",
    "print(dataAll.shape)"
   ]
  },
  {
   "cell_type": "code",
   "execution_count": 359,
   "metadata": {
    "collapsed": true
   },
   "outputs": [],
   "source": [
    "def getPrevId(id):\n",
    "    value = dataset[id]\n",
    "    maxcount = -1\n",
    "    maxid = id\n",
    "    for prev in value[3]:\n",
    "#        print(prev)\n",
    "        if (dataset[prev] is None):\n",
    "            print('dataset[prev] is None')\n",
    "            continue\n",
    "#        print(dataset[prev][5])\n",
    "#        print(data[prev])\n",
    "        if len(dataset[prev]) < 8:\n",
    "            continue\n",
    "        if (maxcount < dataset[prev][5]):\n",
    "            maxcount = dataset[prev][5]\n",
    "            maxid = prev\n",
    "\n",
    "    if maxcount == -1:\n",
    "        return None\n",
    "            \n",
    "    return maxid"
   ]
  },
  {
   "cell_type": "code",
   "execution_count": 360,
   "metadata": {
    "collapsed": true
   },
   "outputs": [],
   "source": [
    "def getNextId(id):\n",
    "    value = dataset[id]\n",
    "    maxcount = -1\n",
    "    maxid = id\n",
    "    for nxt in value[4]:\n",
    "#        print(nxt)\n",
    "        if (dataset[nxt] is None):\n",
    "            print('dataset[prev] is None')\n",
    "            continue\n",
    "#        print(dataset[nxt][5])\n",
    "#        print(data[nxt])\n",
    "        if len(dataset[nxt]) < 8:\n",
    "            continue\n",
    "        if (maxcount < dataset[nxt][5]):\n",
    "            maxcount = dataset[nxt][5]\n",
    "            maxid = nxt\n",
    "            \n",
    "    if maxcount == -1:\n",
    "        return None\n",
    "    return maxid"
   ]
  },
  {
   "cell_type": "code",
   "execution_count": 361,
   "metadata": {
    "collapsed": true
   },
   "outputs": [],
   "source": [
    "#    if id not in data.index:"
   ]
  },
  {
   "cell_type": "code",
   "execution_count": 362,
   "metadata": {
    "collapsed": true
   },
   "outputs": [],
   "source": [
    "def getX(id):\n",
    "    if id not in data.columns:\n",
    "        return None\n",
    "    curS = data[id]\n",
    "    prevId = getPrevId(id)\n",
    "    if prevId not in data.columns:\n",
    "        print(prevId, 'data[prevId] is None')\n",
    "        return None\n",
    "    prevS = data[prevId]\n",
    "    prevId2 = getPrevId(prevId)\n",
    "    if prevId2 not in data.columns:\n",
    "        print(prevId2, 'data[prevId] is None')\n",
    "        return None\n",
    "    prevS2 = data[prevId2]    \n",
    "    nextId = getNextId(id)\n",
    "    if nextId not in data.columns:\n",
    "        print(nextId, 'data[prevId] is None')\n",
    "        return None\n",
    "    nextS = data[nextId]\n",
    "    nextId2 = getNextId(nextId)\n",
    "    if nextId2 not in data.columns:\n",
    "        print(nextId2, 'data[prevId] is None')\n",
    "        return None\n",
    "    nextS2 = data[nextId2]\n",
    "    X = np.array(np.c_[prevS2, prevS, curS, nextS, nextS2])\n",
    "    print(prevId,prevId2,id,nextId,nextId2)\n",
    "#    print(X.shape)\n",
    "    return X"
   ]
  },
  {
   "cell_type": "code",
   "execution_count": 363,
   "metadata": {},
   "outputs": [
    {
     "name": "stdout",
     "output_type": "stream",
     "text": [
      "['D_C', '2598', '700', ['Section2261'], ['Section4215'], 2682, 0, 89]\n",
      "['C_D', '5460', '3309', ['Section3625', 'Section2262'], ['Section3445', 'Section378']]\n",
      "no\n",
      "8\n",
      "5\n"
     ]
    }
   ],
   "source": [
    "#print(data.columns)\n",
    "#if 'Section676' in data.columns:\n",
    "#if 'Section676d' not in data.columns:\n",
    "print(dataset['Section2262'])\n",
    "print(dataset['Section4215'])\n",
    "if 'Section4215' not in data.columns:\n",
    "    print('no')\n",
    "print(len(dataset['Section2262']))\n",
    "print(len(dataset['Section4215']))\n"
   ]
  },
  {
   "cell_type": "code",
   "execution_count": 342,
   "metadata": {},
   "outputs": [
    {
     "name": "stdout",
     "output_type": "stream",
     "text": [
      "1 Section760 -------------------------\n",
      "['D_C', '2503', '3302', ['Section540'], ['Section537'], 4588, 0, 41]\n",
      "Section540 Section776 Section760 Section537 Section3840\n",
      "accuracy: 0.316\n",
      "accuracy: 0.335\n",
      "2 Section1212 -------------------------\n",
      "['C_D', '6943', '3310', ['Section740', 'Section3806'], ['Section3787', 'Section732'], 4408, 0, 62]\n",
      "Section3806 Section3807 Section1212 Section732 Section1176\n",
      "accuracy: 0.791\n",
      "accuracy: 0.785\n",
      "3 Section700 -------------------------\n",
      "['D_D', '2654', '3305', ['Section3098'], ['Section789', 'Section4142'], 3767, 0, 25]\n",
      "Section3098 Section4334 Section700 Section789 Section4634\n",
      "accuracy: 0.439\n",
      "accuracy: 0.4275\n",
      "4 Section776 -------------------------\n",
      "['D_C', '11810', '3309', ['Section583'], ['Section540'], 3795, 0, 63]\n",
      "Section583 Section4133 Section776 Section540 Section760\n",
      "accuracy: 0.442\n",
      "accuracy: 0.3875\n",
      "5 Section732 -------------------------\n",
      "['D_C', '5516', '3304', ['Section1212'], ['Section1176'], 3143, 0, 61]\n",
      "Section1212 Section3806 Section732 Section1176 Section1172\n",
      "accuracy: 0.571\n",
      "accuracy: 0.465\n",
      "6 Section4133 -------------------------\n",
      "['D_C', '1976', '700', ['Section975'], ['Section583'], 3775, 0, 90]\n",
      "Section975 Section715 Section4133 Section583 Section776\n",
      "accuracy: 0.86\n",
      "accuracy: 0.8675\n",
      "7 Section715 -------------------------\n",
      "['D_C', '10785', '3306', ['Section999'], ['Section975'], 2987, 0, 53]\n",
      "Section999 Section768 Section715 Section975 Section4133\n",
      "accuracy: 0.29\n",
      "accuracy: 0.2575\n",
      "8 Section1219 -------------------------\n",
      "['C_D', '2043', '3305', ['Section3753', 'Section1230'], ['Section4586', 'Section4327'], 4757, 0, 8]\n",
      "None data[prevId] is None\n",
      "X is none\n",
      "9 Section4129 -------------------------\n",
      "['D_C', '1992', '400', ['Section583'], ['Section2261'], 2922, 0, 84]\n",
      "Section583 Section4133 Section4129 Section2261 Section2262\n",
      "accuracy: 0.866\n",
      "accuracy: 0.82\n",
      "10 Section1401 -------------------------\n",
      "['C_D', '1224', '3308', ['Section1421', 'Section333'], ['Section752', 'Section3817'], 3677, 0, 19]\n",
      "Section333 Section698 Section1401 Section752 Section3270\n",
      "accuracy: 0.471\n",
      "accuracy: 0.4775\n",
      "11 Section4139 -------------------------\n",
      "['D_C', '1872', '400', ['Section4463'], ['Section852'], 2920, 0, 97]\n",
      "Section4463 Section695 Section4139 Section852 Section835\n",
      "accuracy: 0.993\n",
      "accuracy: 0.9975\n",
      "12 Section540 -------------------------\n",
      "['C_D', '1973', '3310', ['Section776', 'Section4126'], ['Section760', 'Section3843'], 5278, 0, 21]\n",
      "Section776 Section583 Section540 Section760 Section537\n",
      "accuracy: 0.759\n",
      "accuracy: 0.725\n",
      "13 Section3807 -------------------------\n",
      "['B_D', '1752', '700', ['Section2350', 'Section4669'], ['Section737', 'Section3806'], 5229, 0, 59]\n",
      "Section2350 Section748 Section3807 Section3806 Section1212\n",
      "accuracy: 0.538\n",
      "accuracy: 0.455\n",
      "14 Section584 -------------------------\n",
      "['C_D', '636', '3312', ['Section4135', 'Section835'], ['Section778', 'Section4131'], 5125, 0, 10]\n",
      "Section835 Section852 Section584 Section778 Section583\n",
      "accuracy: 0.968\n",
      "accuracy: 0.98\n",
      "15 Section768 -------------------------\n",
      "['D_C', '2564', '3304', ['Section1132'], ['Section999'], 4171, 0, 52]\n",
      "Section1132 Section719 Section768 Section999 Section715\n",
      "accuracy: 0.4\n",
      "accuracy: 0.3325\n",
      "16 Section583 -------------------------\n",
      "['C_D', '3505', '3309', ['Section778', 'Section4133'], ['Section776', 'Section4129'], 6808, 0, 31]\n",
      "Section4133 Section975 Section583 Section776 Section540\n",
      "accuracy: 0.457\n",
      "accuracy: 0.47\n",
      "17 Section975 -------------------------\n",
      "['C_D', '1579', '3310', ['Section715', 'Section3757'], ['Section779', 'Section4133'], 6066, 0, 17]\n",
      "Section715 Section999 Section975 Section4133 Section583\n",
      "accuracy: 0.501\n",
      "accuracy: 0.455\n",
      "18 Section1294 -------------------------\n",
      "['C_C', '2558', '3304', ['Section3915', 'Section798'], ['Section1292'], 3358, 226, 27]\n",
      "None data[prevId] is None\n",
      "X is none\n",
      "19 Section1172 -------------------------\n",
      "['C_D', '3459', '3310', ['Section1176', 'Section3836'], ['Section719', 'Section3780'], 6513, 0, 25]\n",
      "Section1176 Section732 Section1172 Section719 Section1132\n",
      "accuracy: 0.363\n",
      "accuracy: 0.2525\n",
      "20 Section3753 -------------------------\n",
      "['D_C', '2188', '400', ['Section970'], ['Section1219'], 3086, 0, 84]\n",
      "Section970 Section779 Section3753 Section1219 Section4586\n",
      "accuracy: 0.873\n",
      "accuracy: 0.855\n",
      "21 Section2781 -------------------------\n",
      "['C_D', '4042', '3307', ['Section2782', 'Section3840'], ['Section351', 'Section3353'], 6336, 0, 24]\n",
      "None data[prevId] is None\n",
      "X is none\n",
      "22 Section778 -------------------------\n",
      "['D_C', '2638', '3301', ['Section584'], ['Section583'], 3150, 0, 43]\n",
      "Section584 Section835 Section778 Section583 Section776\n",
      "accuracy: 0.409\n",
      "accuracy: 0.43\n",
      "23 Section3840 -------------------------\n",
      "['D_C', '1874', '400', ['Section537'], ['Section2781'], 5900, 0, 91]\n",
      "Section537 Section760 Section3840 Section2781 Section3353\n",
      "accuracy: 0.889\n",
      "accuracy: 0.895\n",
      "24 Section3353 -------------------------\n",
      "['D_C', '2372', '700', ['Section2781'], ['Section2762'], 2987, 0, 71]\n",
      "None data[prevId] is None\n",
      "X is none\n",
      "25 Section852 -------------------------\n",
      "['C_C', '5571', '3306', ['Section4139', 'Section786'], ['Section835'], 3498, 0, 67]\n",
      "Section4139 Section4463 Section852 Section835 Section584\n",
      "accuracy: 0.943\n",
      "accuracy: 0.9525\n",
      "26 Section1257 -------------------------\n",
      "['C_D', '1631', '3308', ['Section3776', 'Section1270'], ['Section4532', 'Section4047'], 3287, 0, 21]\n",
      "Section3776 Section999 Section1257 Section4047 Section1250\n",
      "accuracy: 0.834\n",
      "accuracy: 0.82\n",
      "27 Section719 -------------------------\n",
      "['D_C', '10716', '3308', ['Section1172'], ['Section1132'], 4964, 0, 61]\n",
      "Section1172 Section1176 Section719 Section1132 Section768\n",
      "accuracy: 0.399\n",
      "accuracy: 0.3425\n",
      "28 Section1176 -------------------------\n",
      "['C_C', '3039', '3306', ['Section732', 'Section3783'], ['Section1172'], 5167, 0, 28]\n",
      "Section732 Section1212 Section1176 Section1172 Section719\n",
      "accuracy: 0.58\n",
      "accuracy: 0.52\n",
      "29 Section1250 -------------------------\n",
      "['C_D', '505', '700', ['Section4049', 'Section4047'], ['Section3757', 'Section714'], 4528, 240, 27]\n",
      "None data[prevId] is None\n",
      "X is none\n",
      "30 Section537 -------------------------\n",
      "['C_D', '2102', '3310', ['Section760', 'Section3847'], ['Section758', 'Section3840'], 7540, 0, 18]\n",
      "Section760 Section540 Section537 Section3840 Section2781\n",
      "accuracy: 0.632\n",
      "accuracy: 0.625\n",
      "31 Section2261 -------------------------\n",
      "['C_D', '1060', '3312', ['Section4233', 'Section4129'], ['Section382', 'Section2262'], 3741, 476, 14]\n",
      "None data[prevId] is None\n",
      "X is none\n",
      "32 Section3098 -------------------------\n",
      "['C_D', '14621', '3311', ['Section4334', 'Section4327'], ['Section3750', 'Section700'], 3576, 841, 62]\n",
      "None data[prevId] is None\n",
      "X is none\n",
      "33 Section3806 -------------------------\n",
      "['D_C', '1952', '400', ['Section3807'], ['Section1212'], 3037, 0, 100]\n",
      "Section3807 Section2350 Section3806 Section1212 Section732\n",
      "accuracy: 0.932\n",
      "accuracy: 0.915\n",
      "34 Section695 -------------------------\n",
      "['D_C', '2392', '700', ['Section4518'], ['Section4463'], 3215, 0, 87]\n",
      "None data[prevId] is None\n",
      "X is none\n",
      "35 Section1842 -------------------------\n",
      "['B_C', '5478', '1483', ['Section1285', 'Section3780'], ['Section1281'], 3764, 368, 49]\n",
      "Section1285 Section3934 Section1842 Section1281 Section3778\n",
      "accuracy: 0.688\n",
      "accuracy: 0.7025\n",
      "36 Section970 -------------------------\n",
      "['C_D', '5500', '3307', ['Section779', 'Section4131'], ['Section708', 'Section3753'], 4306, 0, 32]\n",
      "Section779 Section975 Section970 Section3753 Section1219\n",
      "accuracy: 0.403\n",
      "accuracy: 0.4025\n",
      "37 Section1292 -------------------------\n",
      "['C_D', '1706', '3306', ['Section1294', 'Section3787'], ['Section730', 'Section3783'], 4776, 82, 21]\n",
      "Section1294 Section3915 Section1292 Section730 Section4186\n",
      "accuracy: 0.543\n",
      "accuracy: 0.485\n",
      "38 Section835 -------------------------\n",
      "['C_C', '12697', '3307', ['Section852', 'Section4137'], ['Section584'], 3509, 0, 63]\n",
      "Section852 Section4139 Section835 Section584 Section778\n",
      "accuracy: 0.52\n",
      "accuracy: 0.52\n",
      "39 Section3175 -------------------------\n",
      "['C_D', '3584', '3309', ['Section652', 'Section640'], ['Section781', 'Section4135'], 2941, 0, 36]\n",
      "None data[prevId] is None\n",
      "X is none\n",
      "40 Section698 -------------------------\n",
      "['B_D', '2317', '700', ['Section351', 'Section349'], ['Section3291', 'Section333'], 4314, 303, 56]\n",
      "None data[prevId] is None\n",
      "X is none\n",
      "41 Section1132 -------------------------\n",
      "['C_D', '2298', '3306', ['Section719', 'Section3778'], ['Section768', 'Section3847'], 7253, 0, 25]\n",
      "Section719 Section1172 Section1132 Section768 Section999\n"
     ]
    },
    {
     "name": "stdout",
     "output_type": "stream",
     "text": [
      "accuracy: 0.713\n",
      "accuracy: 0.665\n",
      "42 Section3757 -------------------------\n",
      "['D_C', '2310', '400', ['Section1250'], ['Section975'], 2938, 0, 77]\n",
      "Section1250 Section4049 Section3757 Section975 Section4133\n",
      "accuracy: 0.711\n",
      "accuracy: 0.7125\n",
      "43 Section4463 -------------------------\n",
      "['C_D', '2238', '3305', ['Section695', 'Section697'], ['Section785', 'Section4139'], 5256, 52, 28]\n",
      "None data[prevId] is None\n",
      "X is none\n",
      "44 Section3847 -------------------------\n",
      "['D_C', '1976', '700', ['Section1132'], ['Section537'], 3086, 0, 89]\n",
      "Section1132 Section719 Section3847 Section537 Section3840\n",
      "accuracy: 0.906\n",
      "accuracy: 0.8725\n",
      "45 Section496 -------------------------\n",
      "['C_D', '1939', '3308', ['Section758', 'Section3838'], ['Section754', 'Section3836'], 3127, 0, 27]\n",
      "Section758 Section537 Section496 Section3836 Section1172\n",
      "accuracy: 0.811\n",
      "accuracy: 0.84\n",
      "46 Section1281 -------------------------\n",
      "['C_D', '777', '1000', ['Section3985', 'Section1842'], ['Section718', 'Section3778'], 4489, 21, 30]\n",
      "Section1842 Section1285 Section1281 Section3778 Section1132\n",
      "accuracy: 0.699\n",
      "accuracy: 0.715\n",
      "47 Section3291 -------------------------\n",
      "['D_C', '2800', '700', ['Section698'], ['Section2166'], 2892, 1, 86]\n",
      "None data[prevId] is None\n",
      "X is none\n",
      "48 Section999 -------------------------\n",
      "['C_D', '5065', '3310', ['Section768', 'Section3843'], ['Section715', 'Section3776'], 4940, 0, 60]\n",
      "Section768 Section1132 Section999 Section715 Section975\n",
      "accuracy: 0.363\n",
      "accuracy: 0.3225\n"
     ]
    }
   ],
   "source": [
    "num = 0\n",
    "#selectedList = ['Section697','Section754','Section1212','Section852']\n",
    "for id in dataset.keys():\n",
    "#for id in selectedList:\n",
    "\n",
    "    if id not in data.columns:\n",
    "        continue\n",
    "    if dataset[id][5] < 1440*2:\n",
    "        continue\n",
    "    num += 1\n",
    "    print(num, id, '-------------------------')\n",
    "    print(dataset[id])\n",
    "    \n",
    "    Xa = getX(id)\n",
    "    if Xa is None:\n",
    "        print('X is none')\n",
    "        continue\n",
    "    Ya = np.array(data[id]).reshape(-1,1)\n",
    "#    print(Ya.shape)\n",
    "    Xt = Xa[0:1000]\n",
    "    Xval = Xa[1000:1400]\n",
    "    \n",
    "    Yt = Ya[1:1001]\n",
    "    Yval = Ya[1001:1401]\n",
    "    \n",
    "    input_size = 5\n",
    "    classes = 5\n",
    "    X = tf.placeholder(tf.float32, [None, input_size])\n",
    "    Y = tf.placeholder(tf.int32, [None, 1])\n",
    "    Y_one_hot = tf.one_hot(Y, classes)\n",
    "    Y_one_hot = tf.reshape(Y_one_hot, [-1, classes])\n",
    "\n",
    "    W = tf.Variable(tf.random_normal([input_size, classes]), name='weight')\n",
    "    b = tf.Variable(tf.random_normal([classes]), name='bias')\n",
    "\n",
    "    logits = tf.matmul(X, W) + b\n",
    "    hypothesis = tf.nn.softmax(logits)\n",
    "\n",
    "    cost_i = tf.nn.softmax_cross_entropy_with_logits(logits=logits, labels=Y_one_hot)\n",
    "    cost = tf.reduce_mean(cost_i)\n",
    "\n",
    "    optimizer = tf.train.AdamOptimizer().minimize(cost)\n",
    "    prediction = tf.argmax(hypothesis, 1)\n",
    "    correct_prediction = tf.equal(prediction, tf.argmax(Y_one_hot, 1))\n",
    "    accuracy = tf.reduce_mean(tf.cast(correct_prediction, tf.float32))\n",
    "    \n",
    "    with tf.Session() as sess:\n",
    "        sess.run(tf.global_variables_initializer())\n",
    "        for step in range(2000):\n",
    "            sess.run(optimizer, feed_dict={X:Xt, Y:Yt})\n",
    "#            if step % 2000 == 0:\n",
    "#                loss, acc = sess.run([cost,accuracy], feed_dict={X:Xt, Y:Yt})\n",
    "#                print(\"Step:{:5} Loss:{:.3f} Acc:{:.2%}\".format(step, loss, acc))\n",
    "        print('accuracy:', sess.run(accuracy, feed_dict={X:Xt,Y:Yt}))\n",
    "        print('accuracy:', sess.run(accuracy, feed_dict={X:Xval,Y:Yval}))\n",
    "    "
   ]
  },
  {
   "cell_type": "code",
   "execution_count": 269,
   "metadata": {
    "collapsed": true
   },
   "outputs": [],
   "source": [
    "# data preprocessing for input"
   ]
  },
  {
   "cell_type": "code",
   "execution_count": 270,
   "metadata": {
    "collapsed": true
   },
   "outputs": [],
   "source": [
    "def model(input_size, classes):\n",
    "    X = tf.placeholder(tf.float32, [None, input_size])\n",
    "    Y = tf.placeholder(tf.int32, [None, 1])\n",
    "    Y_one_hot = tf.one_hot(Y, classes)\n",
    "    Y_one_hot = tf.reshape(Y_one_hot, [-1, classes])\n",
    "\n",
    "    W = tf.Variable(tf.random_normal([input_size, classes]), name='weight')\n",
    "    b = tf.Variable(tf.random_normal([classes]), name='bias')\n",
    "\n",
    "    logits = tf.matmul(X, W) + b\n",
    "    hypothesis = tf.nn.softmax(logits)\n",
    "\n",
    "    cost_i = tf.nn.softmax_cross_entropy_with_logits(logits=logits, labels=Y_one_hot)\n",
    "    cost = tf.reduce_mean(cost_i)\n",
    "    return hypothesis, cost"
   ]
  },
  {
   "cell_type": "code",
   "execution_count": null,
   "metadata": {
    "collapsed": true
   },
   "outputs": [],
   "source": [
    "#tf.contrib.lookup.index_table_from_tensor"
   ]
  }
 ],
 "metadata": {
  "kernelspec": {
   "display_name": "Python 3",
   "language": "python",
   "name": "python3"
  },
  "language_info": {
   "codemirror_mode": {
    "name": "ipython",
    "version": 3
   },
   "file_extension": ".py",
   "mimetype": "text/x-python",
   "name": "python",
   "nbconvert_exporter": "python",
   "pygments_lexer": "ipython3",
   "version": "3.5.3"
  }
 },
 "nbformat": 4,
 "nbformat_minor": 2
}
